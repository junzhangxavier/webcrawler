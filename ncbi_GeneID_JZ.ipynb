{
 "cells": [
  {
   "cell_type": "code",
   "execution_count": 1,
   "id": "ea3281b8-8b06-4c86-84d8-95b960c84673",
   "metadata": {},
   "outputs": [],
   "source": [
    "import requests\n",
    "from bs4 import BeautifulSoup"
   ]
  },
  {
   "cell_type": "code",
   "execution_count": 3,
   "id": "a7a7bb7a-cd8f-44da-8ba0-4144d80e0146",
   "metadata": {},
   "outputs": [],
   "source": [
    "# URL of the science webpage\n",
    "url = \"https://www.ncbi.nlm.nih.gov/gene/?term=Candidatus%20Liberibacter%20asiaticus\"  "
   ]
  },
  {
   "cell_type": "code",
   "execution_count": 5,
   "id": "af3544a6-a686-454e-aa29-6f48ebc93794",
   "metadata": {},
   "outputs": [
    {
     "name": "stdout",
     "output_type": "stream",
     "text": [
      "Successfully fetched the webpage!\n"
     ]
    }
   ],
   "source": [
    "# Fetch the webpage content\n",
    "response = requests.get(url)\n",
    "if response.status_code == 200:\n",
    "    print(\"Successfully fetched the webpage!\")\n",
    "else:\n",
    "    print(\"Failed to fetch the webpage. Status code:\", response.status_code)\n",
    "    exit()"
   ]
  },
  {
   "cell_type": "code",
   "execution_count": 7,
   "id": "074a6cfb-c5b6-4614-9e02-8835d3c2d180",
   "metadata": {},
   "outputs": [],
   "source": [
    "# Parse the HTML content using BeautifulSoup\n",
    "soup = BeautifulSoup(response.content, 'html.parser')"
   ]
  },
  {
   "cell_type": "code",
   "execution_count": 40,
   "id": "42489292-aa83-415d-8692-5ca481434ff9",
   "metadata": {},
   "outputs": [],
   "source": [
    "# \n",
    "gene_links = soup.find_all(\"a\", {\"href\": True})"
   ]
  },
  {
   "cell_type": "code",
   "execution_count": 52,
   "id": "423742b3-2ff7-4a22-9ce6-cbfe313b37b7",
   "metadata": {},
   "outputs": [
    {
     "name": "stdout",
     "output_type": "stream",
     "text": [
      "Gene IDs extracted:\n",
      "93076875\n",
      "93077260\n",
      "93076880\n",
      "93076515\n",
      "93076784\n",
      "93077169\n",
      "93077432\n",
      "93077306\n",
      "93076541\n",
      "93077055\n",
      "93076545\n",
      "93077443\n",
      "93076677\n",
      "93076431\n",
      "93076567\n",
      "93076954\n",
      "93076586\n",
      "93076594\n",
      "93076466\n",
      "93076725\n"
     ]
    }
   ],
   "source": [
    "gene_ids = []\n",
    "for link in gene_links:\n",
    "    href = link['href']\n",
    "    # Gene IDs are usually in URLs containing '/gene/'\n",
    "    if \"/gene/\" in href:\n",
    "        # Extract the ID part of the URL\n",
    "        try:\n",
    "           gene_id = int(href.split(\"/gene/\")[-1].split(\"?\")[0])\n",
    "        except:\n",
    "            continue\n",
    "        gene_ids.append(gene_id)\n",
    "\n",
    "# Remove duplicates (optional)\n",
    "gene_ids = list(set(gene_ids))\n",
    "\n",
    "# Print the Gene IDs\n",
    "print(\"Gene IDs extracted:\")\n",
    "for gene_id in gene_ids:\n",
    "    print(gene_id)"
   ]
  },
  {
   "cell_type": "code",
   "execution_count": null,
   "id": "b51b1b59-cb40-47a4-a230-01e1ee31f58d",
   "metadata": {},
   "outputs": [],
   "source": []
  }
 ],
 "metadata": {
  "kernelspec": {
   "display_name": "Python 3 (ipykernel)",
   "language": "python",
   "name": "python3"
  },
  "language_info": {
   "codemirror_mode": {
    "name": "ipython",
    "version": 3
   },
   "file_extension": ".py",
   "mimetype": "text/x-python",
   "name": "python",
   "nbconvert_exporter": "python",
   "pygments_lexer": "ipython3",
   "version": "3.12.7"
  }
 },
 "nbformat": 4,
 "nbformat_minor": 5
}
